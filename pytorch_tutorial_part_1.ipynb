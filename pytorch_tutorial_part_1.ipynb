{
 "cells": [
  {
   "cell_type": "markdown",
   "metadata": {},
   "source": [
    "# Creation"
   ]
  },
  {
   "cell_type": "code",
   "execution_count": null,
   "metadata": {
    "scrolled": true
   },
   "outputs": [],
   "source": [
    "import torch\n",
    "import numpy as np\n"
   ]
  },
  {
   "cell_type": "code",
   "execution_count": null,
   "metadata": {
    "scrolled": true
   },
   "outputs": [],
   "source": [
    "data = [1, 7, 6]\n",
    "tensor = torch.tensor(data)\n",
    "\n",
    "print(type(data))\n",
    "print(type(tensor))\n",
    "print(tensor)\n"
   ]
  },
  {
   "cell_type": "code",
   "execution_count": null,
   "metadata": {
    "scrolled": true
   },
   "outputs": [],
   "source": [
    "np_array = np.array(data)\n",
    "tensor = torch.from_numpy(np_array)\n",
    "\n",
    "print(np_array)\n",
    "print(tensor)\n"
   ]
  },
  {
   "cell_type": "code",
   "execution_count": null,
   "metadata": {
    "scrolled": true
   },
   "outputs": [],
   "source": [
    "shape = (3, 2)\n",
    "rand_t = torch.rand(shape)\n",
    "ones_t = torch.ones(shape)\n",
    "zeros_t = torch.zeros(shape)\n",
    "\n",
    "print(rand_t)\n",
    "print(ones_t)\n",
    "print(zeros_t)\n"
   ]
  },
  {
   "cell_type": "markdown",
   "metadata": {},
   "source": [
    "# Conversion"
   ]
  },
  {
   "cell_type": "code",
   "execution_count": null,
   "metadata": {
    "scrolled": true
   },
   "outputs": [],
   "source": [
    "a = torch.Tensor([1, 7, 6])\n",
    "print(a.dtype)\n",
    "\n",
    "print(a.double().dtype)\n",
    "print(a.long().dtype)\n"
   ]
  },
  {
   "cell_type": "code",
   "execution_count": null,
   "id": "1cf7b962",
   "metadata": {},
   "outputs": [],
   "source": [
    "b = torch.LongTensor([1, 7, 6])\n",
    "print(b.dtype)\n"
   ]
  },
  {
   "cell_type": "code",
   "execution_count": null,
   "id": "c6f7aaaa",
   "metadata": {},
   "outputs": [],
   "source": [
    "# Using GPU\n",
    "print(a.cuda().device)\n",
    "print(a.to(\"cuda:0\").device)\n"
   ]
  },
  {
   "cell_type": "markdown",
   "metadata": {},
   "source": [
    "# Operation"
   ]
  },
  {
   "cell_type": "code",
   "execution_count": null,
   "metadata": {
    "scrolled": true
   },
   "outputs": [],
   "source": [
    "shape = (3, 2)\n",
    "a = torch.randint(low=1, high=10, size=shape)\n",
    "b = torch.zeros(shape)\n",
    "print(\"a: \", a)\n",
    "print(\"b: \", b)\n"
   ]
  },
  {
   "cell_type": "code",
   "execution_count": null,
   "id": "4dca4269",
   "metadata": {},
   "outputs": [],
   "source": [
    "print(\"Slice:\")\n",
    "print(a[1:3, :])\n"
   ]
  },
  {
   "cell_type": "code",
   "execution_count": null,
   "id": "556974a0",
   "metadata": {},
   "outputs": [],
   "source": [
    "print(\"Concat:\")\n",
    "cat = torch.cat([a, b], dim=0)\n",
    "print(cat)\n",
    "print(a.shape)\n",
    "print(b.shape)\n",
    "print(cat.shape, \"\\n\")\n",
    "\n",
    "cat = torch.cat([a, b], dim=1)\n",
    "print(cat)\n",
    "print(cat.shape)\n"
   ]
  },
  {
   "cell_type": "code",
   "execution_count": null,
   "id": "fe7389ea",
   "metadata": {},
   "outputs": [],
   "source": [
    "print(\"Broadcast:\")\n",
    "a = torch.randint(low=1, high=10, size=(3, 2)).float()\n",
    "b = torch.ones(2) * 10\n",
    "print(\"a:\\n\", a, a.shape)\n",
    "print(\"b:\\n\", b, b.shape)\n",
    "\n",
    "bcast = a + b  # broadcast will make the shape of b to (3, 2)\n",
    "print(\"bcast:\\n\", bcast, bcast.shape)\n"
   ]
  },
  {
   "cell_type": "code",
   "execution_count": null,
   "id": "042bec02",
   "metadata": {},
   "outputs": [],
   "source": [
    "print(\"Compute:\")\n",
    "print(a * b)  #  * is element-wise product. For matrix product, use @\n"
   ]
  },
  {
   "cell_type": "markdown",
   "metadata": {},
   "source": [
    "# Copying Tensors"
   ]
  },
  {
   "cell_type": "code",
   "execution_count": null,
   "metadata": {},
   "outputs": [],
   "source": [
    "a = torch.tensor([1, 7, 6])\n",
    "b = a\n",
    "print(\"b: \", b)\n",
    "a *= 0\n",
    "print(\"a: \", a)\n",
    "print(\"b: \", b)\n",
    "\n",
    "print(\"\\nUsing Clone\")\n",
    "a = torch.tensor([1, 7, 6])\n",
    "b = a.clone()\n",
    "print(\"b: \", b)\n",
    "a *= 0\n",
    "print(\"a: \", a)\n",
    "print(\"b: \", b)\n"
   ]
  },
  {
   "cell_type": "markdown",
   "metadata": {},
   "source": [
    "# With Numpy"
   ]
  },
  {
   "cell_type": "code",
   "execution_count": null,
   "metadata": {
    "scrolled": true
   },
   "outputs": [],
   "source": [
    "np_array = np.array([1, 7, 6])\n",
    "tensor = torch.from_numpy(np_array)\n",
    "\n",
    "print(tensor)\n",
    "print(tensor.numpy())\n",
    "\n",
    "tensor = torch.tensor([1, 7, 6]).cuda()\n",
    "print(type(tensor))\n",
    "\n",
    "print(tensor.cpu().numpy())\n",
    "print(type(tensor.cpu().numpy()))"
   ]
  },
  {
   "cell_type": "markdown",
   "metadata": {},
   "source": [
    "# Auto Gradient"
   ]
  },
  {
   "cell_type": "code",
   "execution_count": null,
   "metadata": {
    "scrolled": true
   },
   "outputs": [],
   "source": [
    "a = torch.tensor([1.], requires_grad=True)\n",
    "b = torch.tensor([7.], requires_grad=True)\n",
    "c = torch.tensor([6.], requires_grad=True)\n",
    "\n",
    "d = a + b\n",
    "e = c * d\n",
    "\n",
    "e.backward()\n",
    "print(a.grad)\n",
    "print(b.grad)\n",
    "print(c.grad)"
   ]
  },
  {
   "cell_type": "code",
   "execution_count": null,
   "metadata": {
    "scrolled": true
   },
   "outputs": [],
   "source": [
    "a = torch.tensor([1.], requires_grad=True)\n",
    "b = torch.tensor([7.], requires_grad=True)\n",
    "c = torch.tensor([6.], requires_grad=True)\n",
    "\n",
    "optimizer = torch.optim.SGD([a, b], lr=1e-3)\n",
    "\n",
    "d = a + b\n",
    "e = c * d\n",
    "\n",
    "optimizer.zero_grad()\n",
    "e.backward()\n",
    "optimizer.step()\n",
    "\n",
    "print(a)\n",
    "print(b)\n",
    "print(c)\n",
    "print(a.grad)\n",
    "print(b.grad)\n",
    "print(c.grad)\n"
   ]
  },
  {
   "cell_type": "markdown",
   "metadata": {},
   "source": [
    "# Minimizing a Polynomial Function "
   ]
  },
  {
   "cell_type": "code",
   "execution_count": null,
   "metadata": {
    "scrolled": true
   },
   "outputs": [],
   "source": [
    "def objective(x):\n",
    "    return x ** 5 - 8 * x ** 3 + 10 * x + 6\n",
    "\n",
    "\n",
    "# Initialise from uniform random [-2, 2]\n",
    "x = np.random.rand() * 4 - 2\n",
    "x = torch.tensor(x, requires_grad=True)\n",
    "\n",
    "init_value = x.clone().detach().numpy()\n",
    "print(\"Initial Value: \", init_value)\n",
    "\n",
    "# Initialize Optimizer\n",
    "optim = torch.optim.SGD([x], lr=1e-2)\n",
    "\n",
    "# =================================#\n",
    "#       Optimization              #\n",
    "# =================================#\n",
    "steps = 0\n",
    "while True:\n",
    "    # Objective Function\n",
    "    output = objective(x)\n",
    "\n",
    "    steps += 1\n",
    "\n",
    "    old_x = x.clone()\n",
    "\n",
    "    # Clear old gradients\n",
    "    optim.zero_grad()\n",
    "    # Back propagation\n",
    "    output.backward()\n",
    "    # Gradient Update\n",
    "    optim.step()\n",
    "\n",
    "    new_x = x.clone()\n",
    "\n",
    "    # Stop optimization if change is small\n",
    "    if abs(new_x - old_x) < 1e-2:\n",
    "        break\n",
    "\n",
    "print(\"Time Steps Taken: \", steps)\n",
    "print(\"Minima is at x = \", x.detach().numpy())\n",
    "\n",
    "# =================================#\n",
    "#       Plotting                  #\n",
    "# =================================#\n",
    "x_values = np.linspace(-2.5, 2.5, 100)\n",
    "y = objective(x_values)\n",
    "import matplotlib.pyplot as plt\n",
    "\n",
    "plt.plot(x_values, y)\n",
    "plt.plot(init_value, objective(init_value), label=\"Initial Value\", marker=\"o\", markersize=10)\n",
    "plt.plot(\n",
    "    x.detach().numpy(), objective(x).detach().numpy(), label=\"Optimal Value\", marker=\"*\", color=\"red\", markersize=10\n",
    ")\n",
    "plt.grid()\n",
    "plt.legend()\n"
   ]
  }
 ],
 "metadata": {
  "kernelspec": {
   "display_name": "Python 3",
   "language": "python",
   "name": "python3"
  },
  "language_info": {
   "codemirror_mode": {
    "name": "ipython",
    "version": 3
   },
   "file_extension": ".py",
   "mimetype": "text/x-python",
   "name": "python",
   "nbconvert_exporter": "python",
   "pygments_lexer": "ipython3",
   "version": "3.9.7"
  }
 },
 "nbformat": 4,
 "nbformat_minor": 5
}
